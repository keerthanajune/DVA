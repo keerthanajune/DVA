{
 "cells": [
  {
   "cell_type": "markdown",
   "id": "chicken-perth",
   "metadata": {},
   "source": [
    "## KEERTHANA S\n",
    "### DS205229116"
   ]
  },
  {
   "cell_type": "markdown",
   "id": "65652799",
   "metadata": {},
   "source": [
    "### Lab2. Red Wine Quality Data Analysis using NumPy Part-II"
   ]
  },
  {
   "cell_type": "code",
   "execution_count": 1,
   "id": "external-distance",
   "metadata": {},
   "outputs": [
    {
     "name": "stdout",
     "output_type": "stream",
     "text": [
      "How many students?: 1\n",
      "name of student KEERTHY\n",
      "Regression Analysis Mark:89\n",
      "Data Visualization Analytics Mark:90\n",
      "Practical Machine Learning Mark:90\n",
      "Natural Language Processing Mark:89\n",
      "HealthCare Decision Analysis Mark: 92\n",
      "Student Name : ['KEERTHY']\n",
      "Regression Analysis mark : [89.]\n",
      "Data Visual Analytics mark : [90.]\n",
      "Practical Machine Learning mark: [90.]\n",
      "Natural Language Processing mark: [89.]\n",
      "Health Care Data analytics mark: [92.]\n",
      "Total: [450.]\n",
      "Percentage: 90.0\n",
      "Grade: Your Grade is A\n"
     ]
    }
   ],
   "source": [
    "import numpy as np \n",
    "\n",
    "stuname = np.array([ ])\n",
    "ra = np.array([ ])\n",
    "dva = np.array([ ])\n",
    "pml = np.array([ ])\n",
    "nlp = np.array([ ])\n",
    "hcda = np.array([ ])\n",
    "\n",
    "num = input(\"How many students?: \")\n",
    "\n",
    "for i in num:\n",
    "    name = input(\"name of student \")\n",
    "    stuname = np.append(stuname,name)\n",
    "    mark = int(input(\"Regression Analysis Mark:\"))\n",
    "    ra = np.append(ra,mark)\n",
    "    mark = int(input(\"Data Visualization Analytics Mark:\"))\n",
    "    dva = np.append(dva,mark)\n",
    "    mark = int(input(\"Practical Machine Learning Mark:\"))\n",
    "    pml = np.append(pml,mark)\n",
    "    mark = int(input(\"Natural Language Processing Mark:\"))\n",
    "    nlp = np.append(nlp,mark)\n",
    "    mark = int(input(\"HealthCare Decision Analysis Mark: \"))\n",
    "    hcda = np.append(hcda,mark)\n",
    "    \n",
    "for i in num:\n",
    "    total=ra+dva+pml+nlp+hcda\n",
    "    percent=float(total)/5\n",
    "    tot=total\n",
    "    per=percent\n",
    "    if(percent >=91 and percent <=100):\n",
    "        result=\"Your Grade is A+\"\n",
    "    elif(percent >=81 and percent <=90):\n",
    "        result=\"Your Grade is A\"\n",
    "    elif(percent >=71 and percent <=80):\n",
    "        result=\"Your Grade is B+\"\n",
    "    elif(percent >=61 and percent <=70):\n",
    "        result=\"Your Grade is B\"\n",
    "    elif(percent >=51 and percent <=60):\n",
    "        result=\"Your Grade is C+\"\n",
    "    elif(percent >=41 and percent <=50):\n",
    "        result=\"Your Grade is C\"\n",
    "    elif(percent >=0 and percent <=40):\n",
    "        result=\"Your Grade is F\"\n",
    "    else:\n",
    "        result=\"Strange Grade..!!\"\n",
    "for i in num:\n",
    "    print(\"Student Name :\" ,stuname)\n",
    "    print(\"Regression Analysis mark :\" ,ra)\n",
    "    print(\"Data Visual Analytics mark :\" ,dva)\n",
    "    print(\"Practical Machine Learning mark:\" ,pml)\n",
    "    print(\"Natural Language Processing mark:\" ,nlp)\n",
    "    print(\"Health Care Data analytics mark:\" ,hcda)\n",
    "    print(\"Total:\" , tot)\n",
    "    print(\"Percentage:\" , per)\n",
    "    print(\"Grade:\" , result)"
   ]
  },
  {
   "cell_type": "code",
   "execution_count": null,
   "id": "brave-glossary",
   "metadata": {},
   "outputs": [],
   "source": []
  }
 ],
 "metadata": {
  "kernelspec": {
   "display_name": "Python 3",
   "language": "python",
   "name": "python3"
  },
  "language_info": {
   "codemirror_mode": {
    "name": "ipython",
    "version": 3
   },
   "file_extension": ".py",
   "mimetype": "text/x-python",
   "name": "python",
   "nbconvert_exporter": "python",
   "pygments_lexer": "ipython3",
   "version": "3.8.8"
  }
 },
 "nbformat": 4,
 "nbformat_minor": 5
}
