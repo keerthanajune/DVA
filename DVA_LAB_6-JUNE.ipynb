{
 "cells": [
  {
   "cell_type": "markdown",
   "id": "f62f2077",
   "metadata": {},
   "source": [
    "### KEERTHANA S\n",
    "### 205229116"
   ]
  },
  {
   "cell_type": "markdown",
   "id": "03f24614",
   "metadata": {},
   "source": [
    "### Lab6. Pandas Data Cleaning"
   ]
  },
  {
   "cell_type": "markdown",
   "id": "17f0ea9c",
   "metadata": {},
   "source": [
    "### LabelEncoder in Scikit Learn"
   ]
  },
  {
   "cell_type": "markdown",
   "id": "fc3b3dab",
   "metadata": {},
   "source": [
    "- Encodes string values as integer values"
   ]
  },
  {
   "cell_type": "code",
   "execution_count": 1,
   "id": "13f306c7",
   "metadata": {},
   "outputs": [],
   "source": [
    "import pandas as pd\n",
    "from sklearn.preprocessing import LabelEncoder"
   ]
  },
  {
   "cell_type": "code",
   "execution_count": 2,
   "id": "176fac7c",
   "metadata": {},
   "outputs": [],
   "source": [
    "le = LabelEncoder()\n",
    "#New object\n",
    "df = pd.DataFrame(\n",
    "    data={\n",
    "        'col1': ['foo', 'bar', 'foo', 'bar'],\n",
    "        'col2': ['x', 'y', 'x', 'z'],\n",
    "        'col3': [1, 2, 3, 4]\n",
    "    })"
   ]
  },
  {
   "cell_type": "code",
   "execution_count": 3,
   "id": "5c7b3c28",
   "metadata": {},
   "outputs": [
    {
     "data": {
      "text/html": [
       "<div>\n",
       "<style scoped>\n",
       "    .dataframe tbody tr th:only-of-type {\n",
       "        vertical-align: middle;\n",
       "    }\n",
       "\n",
       "    .dataframe tbody tr th {\n",
       "        vertical-align: top;\n",
       "    }\n",
       "\n",
       "    .dataframe thead th {\n",
       "        text-align: right;\n",
       "    }\n",
       "</style>\n",
       "<table border=\"1\" class=\"dataframe\">\n",
       "  <thead>\n",
       "    <tr style=\"text-align: right;\">\n",
       "      <th></th>\n",
       "      <th>col1</th>\n",
       "      <th>col2</th>\n",
       "      <th>col3</th>\n",
       "    </tr>\n",
       "  </thead>\n",
       "  <tbody>\n",
       "    <tr>\n",
       "      <th>0</th>\n",
       "      <td>1</td>\n",
       "      <td>0</td>\n",
       "      <td>0</td>\n",
       "    </tr>\n",
       "    <tr>\n",
       "      <th>1</th>\n",
       "      <td>0</td>\n",
       "      <td>1</td>\n",
       "      <td>1</td>\n",
       "    </tr>\n",
       "    <tr>\n",
       "      <th>2</th>\n",
       "      <td>1</td>\n",
       "      <td>0</td>\n",
       "      <td>2</td>\n",
       "    </tr>\n",
       "    <tr>\n",
       "      <th>3</th>\n",
       "      <td>0</td>\n",
       "      <td>2</td>\n",
       "      <td>3</td>\n",
       "    </tr>\n",
       "  </tbody>\n",
       "</table>\n",
       "</div>"
      ],
      "text/plain": [
       "   col1  col2  col3\n",
       "0     1     0     0\n",
       "1     0     1     1\n",
       "2     1     0     2\n",
       "3     0     2     3"
      ]
     },
     "execution_count": 3,
     "metadata": {},
     "output_type": "execute_result"
    }
   ],
   "source": [
    "#Now convert string values of each column into integer values\n",
    "df.apply(le.fit_transform)"
   ]
  },
  {
   "cell_type": "markdown",
   "id": "43c9fcee",
   "metadata": {},
   "source": [
    "### One Hot Encoder"
   ]
  },
  {
   "cell_type": "markdown",
   "id": "08497c83",
   "metadata": {},
   "source": [
    "- Consider the following dataframe. You will have to represent string values of column A and B with integers"
   ]
  },
  {
   "cell_type": "code",
   "execution_count": 4,
   "id": "4e68fa4a",
   "metadata": {},
   "outputs": [
    {
     "data": {
      "text/html": [
       "<div>\n",
       "<style scoped>\n",
       "    .dataframe tbody tr th:only-of-type {\n",
       "        vertical-align: middle;\n",
       "    }\n",
       "\n",
       "    .dataframe tbody tr th {\n",
       "        vertical-align: top;\n",
       "    }\n",
       "\n",
       "    .dataframe thead th {\n",
       "        text-align: right;\n",
       "    }\n",
       "</style>\n",
       "<table border=\"1\" class=\"dataframe\">\n",
       "  <thead>\n",
       "    <tr style=\"text-align: right;\">\n",
       "      <th></th>\n",
       "      <th>A</th>\n",
       "      <th>B</th>\n",
       "      <th>C</th>\n",
       "    </tr>\n",
       "  </thead>\n",
       "  <tbody>\n",
       "    <tr>\n",
       "      <th>0</th>\n",
       "      <td>a</td>\n",
       "      <td>b</td>\n",
       "      <td>1</td>\n",
       "    </tr>\n",
       "    <tr>\n",
       "      <th>1</th>\n",
       "      <td>b</td>\n",
       "      <td>a</td>\n",
       "      <td>2</td>\n",
       "    </tr>\n",
       "    <tr>\n",
       "      <th>2</th>\n",
       "      <td>a</td>\n",
       "      <td>c</td>\n",
       "      <td>3</td>\n",
       "    </tr>\n",
       "  </tbody>\n",
       "</table>\n",
       "</div>"
      ],
      "text/plain": [
       "   A  B  C\n",
       "0  a  b  1\n",
       "1  b  a  2\n",
       "2  a  c  3"
      ]
     },
     "execution_count": 4,
     "metadata": {},
     "output_type": "execute_result"
    }
   ],
   "source": [
    "import pandas as pd\n",
    "\n",
    "df = pd.DataFrame({'A': ['a', 'b', 'a'], 'B': ['b', 'a', 'c'], 'C': [1, 2, 3]})\n",
    "df"
   ]
  },
  {
   "cell_type": "code",
   "execution_count": 5,
   "id": "50c0a9b8",
   "metadata": {},
   "outputs": [
    {
     "data": {
      "text/html": [
       "<div>\n",
       "<style scoped>\n",
       "    .dataframe tbody tr th:only-of-type {\n",
       "        vertical-align: middle;\n",
       "    }\n",
       "\n",
       "    .dataframe tbody tr th {\n",
       "        vertical-align: top;\n",
       "    }\n",
       "\n",
       "    .dataframe thead th {\n",
       "        text-align: right;\n",
       "    }\n",
       "</style>\n",
       "<table border=\"1\" class=\"dataframe\">\n",
       "  <thead>\n",
       "    <tr style=\"text-align: right;\">\n",
       "      <th></th>\n",
       "      <th>C</th>\n",
       "      <th>col1_a</th>\n",
       "      <th>col1_b</th>\n",
       "      <th>col2_a</th>\n",
       "      <th>col2_b</th>\n",
       "      <th>col2_c</th>\n",
       "    </tr>\n",
       "  </thead>\n",
       "  <tbody>\n",
       "    <tr>\n",
       "      <th>0</th>\n",
       "      <td>1</td>\n",
       "      <td>1</td>\n",
       "      <td>0</td>\n",
       "      <td>0</td>\n",
       "      <td>1</td>\n",
       "      <td>0</td>\n",
       "    </tr>\n",
       "    <tr>\n",
       "      <th>1</th>\n",
       "      <td>2</td>\n",
       "      <td>0</td>\n",
       "      <td>1</td>\n",
       "      <td>1</td>\n",
       "      <td>0</td>\n",
       "      <td>0</td>\n",
       "    </tr>\n",
       "    <tr>\n",
       "      <th>2</th>\n",
       "      <td>3</td>\n",
       "      <td>1</td>\n",
       "      <td>0</td>\n",
       "      <td>0</td>\n",
       "      <td>0</td>\n",
       "      <td>1</td>\n",
       "    </tr>\n",
       "  </tbody>\n",
       "</table>\n",
       "</div>"
      ],
      "text/plain": [
       "   C  col1_a  col1_b  col2_a  col2_b  col2_c\n",
       "0  1       1       0       0       1       0\n",
       "1  2       0       1       1       0       0\n",
       "2  3       1       0       0       0       1"
      ]
     },
     "execution_count": 5,
     "metadata": {},
     "output_type": "execute_result"
    }
   ],
   "source": [
    "# Call get_dummies method. It will create a new column for each string value in DF columns\n",
    "# here prefix tells which columns should be encoded\n",
    "pd.get_dummies(df, prefix=['col1', 'col2'])"
   ]
  },
  {
   "cell_type": "markdown",
   "id": "9d587250",
   "metadata": {},
   "source": [
    "### MinMaxScaler"
   ]
  },
  {
   "cell_type": "markdown",
   "id": "713aa823",
   "metadata": {},
   "source": [
    "- It will transform values into a range of 0 to 1"
   ]
  },
  {
   "cell_type": "code",
   "execution_count": 6,
   "id": "31f4bb76",
   "metadata": {},
   "outputs": [
    {
     "data": {
      "text/plain": [
       "array([[1.        , 1.        , 0.        ],\n",
       "       [0.36111111, 0.        , 0.83333333],\n",
       "       [0.        , 0.22368421, 1.        ]])"
      ]
     },
     "execution_count": 6,
     "metadata": {},
     "output_type": "execute_result"
    }
   ],
   "source": [
    "from sklearn.preprocessing import MinMaxScaler\n",
    "\n",
    "mm_scaler = MinMaxScaler(feature_range=(0, 1))  # (0,1) is default range\n",
    "df2 = pd.DataFrame({\n",
    "    \"col1\": [5, -41, -67],\n",
    "    \"col2\": [23, -53, -36],\n",
    "    \"col3\": [-25, 10, 17]\n",
    "})\n",
    "mm_scaler.fit_transform(df2)"
   ]
  },
  {
   "cell_type": "markdown",
   "id": "460fdc9a",
   "metadata": {},
   "source": [
    "### Binarizer"
   ]
  },
  {
   "cell_type": "markdown",
   "id": "321c50d0",
   "metadata": {},
   "source": [
    "- It will encode values into 0 or 1, depending on the threshold"
   ]
  },
  {
   "cell_type": "code",
   "execution_count": 7,
   "id": "098a842e",
   "metadata": {},
   "outputs": [
    {
     "data": {
      "text/plain": [
       "array([[0, 0, 1],\n",
       "       [0, 1, 1]], dtype=int64)"
      ]
     },
     "execution_count": 7,
     "metadata": {},
     "output_type": "execute_result"
    }
   ],
   "source": [
    "from sklearn.preprocessing import Binarizer\n",
    "\n",
    "dfb = pd.DataFrame({\n",
    "    \"col1\": [110, 200],\n",
    "    \"col2\": [120, 800],\n",
    "    \"col3\": [310, 400]\n",
    "})\n",
    "bin = Binarizer(threshold=300)\n",
    "bin.fit_transform(dfb)"
   ]
  },
  {
   "cell_type": "markdown",
   "id": "02daebba",
   "metadata": {},
   "source": [
    "### Imputer"
   ]
  },
  {
   "cell_type": "markdown",
   "id": "2cb06b48",
   "metadata": {},
   "source": [
    "- You can also use Imputer from sklearn to handle NaN objects in each columns. Here, we replace NaN with\n",
    "column mean value. This is good alternative to fillna() method.\n"
   ]
  },
  {
   "cell_type": "code",
   "execution_count": 8,
   "id": "35ef7f79",
   "metadata": {},
   "outputs": [
    {
     "name": "stdout",
     "output_type": "stream",
     "text": [
      "   col1  col2  col3  col4\n",
      "0     7   4.0   NaN  10.0\n",
      "1     2   NaN   NaN   NaN\n",
      "2     3   6.0   3.0   9.0\n"
     ]
    },
    {
     "data": {
      "text/plain": [
       "array([[ 7. ,  4. ,  3. , 10. ],\n",
       "       [ 2. ,  5. ,  3. ,  9.5],\n",
       "       [ 3. ,  6. ,  3. ,  9. ]])"
      ]
     },
     "execution_count": 8,
     "metadata": {},
     "output_type": "execute_result"
    }
   ],
   "source": [
    "import numpy as np\n",
    "from sklearn.impute import SimpleImputer\n",
    "import pandas as pd\n",
    "\n",
    "imp_mean = SimpleImputer(missing_values=np.nan, strategy='mean')\n",
    "df = pd.DataFrame({\n",
    "    \"col1\": [7, 2, 3],\n",
    "    \"col2\": [4, np.nan, 6],\n",
    "    \"col3\": [np.nan, np.nan, 3],\n",
    "    \"col4\": [10, np.nan, 9]\n",
    "})\n",
    "print(df)\n",
    "imp_mean.fit_transform(df)"
   ]
  },
  {
   "cell_type": "markdown",
   "id": "c069bbe7",
   "metadata": {},
   "source": [
    "### De-duplication or Entity Resolution and String Matching"
   ]
  },
  {
   "cell_type": "markdown",
   "id": "2b42f53b",
   "metadata": {},
   "source": [
    "- You can use dedupe and fuzzywuzzy packages. Install them using pip3 and import inside your Python code"
   ]
  },
  {
   "cell_type": "markdown",
   "id": "09ba2a88",
   "metadata": {},
   "source": [
    "### fuzzywuzzy"
   ]
  },
  {
   "cell_type": "code",
   "execution_count": 1,
   "id": "82224a42",
   "metadata": {},
   "outputs": [
    {
     "name": "stdout",
     "output_type": "stream",
     "text": [
      "Ratio is: 51\n",
      "Weighted ratio: 86\n",
      "Unicode ratio: 51\n"
     ]
    }
   ],
   "source": [
    "import warnings\n",
    "warnings.filterwarnings('ignore')\n",
    "\n",
    "from fuzzywuzzy import fuzz\n",
    "from fuzzywuzzy import process\n",
    "\n",
    "a = 'Welcome to Bishop Heber College '\n",
    "b = 'I am keerthana Pursuing Masters in DataScience at Bishop Heber College'\n",
    "ratio = fuzz.ratio(a, b)\n",
    "weighted_ratio = fuzz.WRatio(a, b)\n",
    "unicode_ratio = fuzz.UQRatio(a, b)\n",
    "print('Ratio is:', ratio)\n",
    "print('Weighted ratio:', weighted_ratio)\n",
    "print('Unicode ratio:', unicode_ratio)"
   ]
  },
  {
   "cell_type": "code",
   "execution_count": 2,
   "id": "32c60501",
   "metadata": {},
   "outputs": [],
   "source": [
    "c=a+b"
   ]
  },
  {
   "cell_type": "code",
   "execution_count": 3,
   "id": "f70ce64b",
   "metadata": {},
   "outputs": [
    {
     "data": {
      "text/plain": [
       "[('i', 100), ('I', 100), ('i', 100), ('i', 100), ('i', 100)]"
      ]
     },
     "execution_count": 3,
     "metadata": {},
     "output_type": "execute_result"
    }
   ],
   "source": [
    "ex_tract = process.extract('I', c)\n",
    "ex_tract"
   ]
  },
  {
   "cell_type": "code",
   "execution_count": 4,
   "id": "0b17953e",
   "metadata": {},
   "outputs": [
    {
     "data": {
      "text/plain": [
       "('i', 100)"
      ]
     },
     "execution_count": 4,
     "metadata": {},
     "output_type": "execute_result"
    }
   ],
   "source": [
    "extract1 = process.extractOne('I', c)\n",
    "extract1"
   ]
  },
  {
   "cell_type": "markdown",
   "id": "f6a59bd7",
   "metadata": {},
   "source": [
    "###  dedupe"
   ]
  },
  {
   "cell_type": "code",
   "execution_count": 5,
   "id": "e8cb7fea",
   "metadata": {},
   "outputs": [
    {
     "data": {
      "text/plain": [
       "dict_keys(['vezhavethan'])"
      ]
     },
     "execution_count": 5,
     "metadata": {},
     "output_type": "execute_result"
    }
   ],
   "source": [
    "import dedupe\n",
    "# List of duplicate character names\n",
    "dupes = ['keerthy', 'radhika', 'srilakshmi', 'Rithic', 'Rohan',\n",
    "    'vezhavethan', 'mahesh', 'hari', 'reshma','gayathiri','bharathwin']\n",
    "# Print the duplicate values\n",
    "# As the threshold decreases the number of duplications found will increase\n",
    "process.dedupe(dupes, threshold=10)"
   ]
  },
  {
   "cell_type": "code",
   "execution_count": 6,
   "id": "d5f8487c",
   "metadata": {},
   "outputs": [
    {
     "data": {
      "text/plain": [
       "[('radhika', 60), ('bharathwin', 60), ('Rohan', 50)]"
      ]
     },
     "execution_count": 6,
     "metadata": {},
     "output_type": "execute_result"
    }
   ],
   "source": [
    "extract = process.extract('Pra', dupes, limit=3)\n",
    "extract"
   ]
  },
  {
   "cell_type": "code",
   "execution_count": 7,
   "id": "faeae554",
   "metadata": {},
   "outputs": [
    {
     "data": {
      "text/plain": [
       "('radhika', 60)"
      ]
     },
     "execution_count": 7,
     "metadata": {},
     "output_type": "execute_result"
    }
   ],
   "source": [
    "extractone = process.extractOne('Pra', dupes)\n",
    "extractone"
   ]
  },
  {
   "cell_type": "code",
   "execution_count": null,
   "id": "6426a254",
   "metadata": {},
   "outputs": [],
   "source": []
  }
 ],
 "metadata": {
  "kernelspec": {
   "display_name": "Python 3",
   "language": "python",
   "name": "python3"
  },
  "language_info": {
   "codemirror_mode": {
    "name": "ipython",
    "version": 3
   },
   "file_extension": ".py",
   "mimetype": "text/x-python",
   "name": "python",
   "nbconvert_exporter": "python",
   "pygments_lexer": "ipython3",
   "version": "3.8.8"
  }
 },
 "nbformat": 4,
 "nbformat_minor": 5
}
